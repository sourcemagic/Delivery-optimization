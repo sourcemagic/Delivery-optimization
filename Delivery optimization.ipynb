{
 "cells": [
  {
   "cell_type": "markdown",
   "metadata": {},
   "source": [
    "# Delivery optimization\n",
    "\n",
    "In this notebook it will be solved a knapsack problem with the library [PulP](https://coin-or.github.io/pulp).\n",
    "\n",
    "There is one warehouse with hardware and far away one new office without hardware. This office needs to be equipped. For this exists **transporters** like trucks. \n",
    "\n",
    "The job is to find the most efficient loading for the transporters with hardware for the **first** delivery.  \n",
    "All available hardware items have a **weight**, a **utility** value for the new office and a maximum of required **count** for the new office. \n",
    "The transporters have a **maximum load capacity**, which limits the weight of their **driver and items**.\n",
    "\n",
    "This exercise comes from a [coding challenge](https://www.get-in-it.de/coding-challenge) from [get in IT](https://www.get-in-it.de).  \n",
    "There are the following specific example values for this: \n",
    "\n",
    "- truck count: 2\n",
    "- truck 1 max capacity: 1100kg\n",
    "- truck 2 max capacity: 1100kg  \n",
    "- driver 1 weight: 72.4kg\n",
    "- driver 2 weight: 85.7kg\n",
    "- shown table of items below\n"
   ]
  },
  {
   "cell_type": "markdown",
   "metadata": {},
   "source": [
    "The following table of items is used in the code by a csv file named `items.csv`  \n",
    "*Notice: In the code the names of the items can be different, because the originals from the csv file are in german.*  \n",
    "\n",
    "\n",
    "| name                  | max count | weight in gram | utility per unit |\n",
    "|-----------------------|-----------|----------------|------------------|\n",
    "|Notebook office 13\"    |       205 |           2451 |               40 |\n",
    "|Notebook office 14\"    |       420 |           2978 |               35 |\n",
    "|Notebook outdoor       |       450 |           3625 |               80 |\n",
    "|Mobile phone office    |        60 |            717 |               30 |\n",
    "|Mobile phone outdoor   |       157 |            988 |               60 |\n",
    "|Mobile phone heavy duty|       220 |           1220 |               65 |\n",
    "|Tablet office small    |       620 |           1405 |               40 |\n",
    "|Tablet office big      |       250 |           1455 |               40 |\n",
    "|Tablet outdoor small   |       540 |           1690 |               45 |\n",
    "|Tablet outdoor big     |       370 |           1980 |               68 |\n",
    "\n",
    "So lets take a look how to get the greatest sum of utility in the trucks. "
   ]
  },
  {
   "cell_type": "markdown",
   "metadata": {},
   "source": [
    "### How to solve this problem?\n",
    "\n",
    "The knapsack problem is based on the objects which should be loaded.  \n",
    "So there are always whole parts and not just a half or a quarter of it.  \n",
    "\n",
    "The knapsack problem can be modeled as an integer programming optimization.  \n",
    "Integer programming is a mathematical optimization program in which all or some variables are integers instead of continues point numbers.  \n",
    "\n",
    "For modelling a integer programming optimization there must be defined the following:\n",
    "- Decision variables which will be optimized\n",
    "- A objective function which are maximized or minimized\n",
    "- Some constraints to restrict the decision variables \n",
    "\n",
    "\n",
    "**In this use case**\n",
    "\n",
    "- The decision variables are the items to load.  \n",
    "- Our objective function is the total sum of utility for all items on all trucks.  \n",
    "- Constraints can be defined from the max load capacity and the max count of item type. "
   ]
  },
  {
   "cell_type": "markdown",
   "metadata": {},
   "source": [
    "### How it works?\n",
    "\n",
    "#### Quick overview\n",
    "\n",
    "The standard method to solve an integer programming is called \"Branch and Bound\". \n",
    "\n",
    "Because an integer programming model is harder to optimize than a linear programming model, there will be used a linear programming optimization as help.  \n",
    "\n",
    "**Bound**  \n",
    "The linear model can optimize the objective function with continues numbers, so its max value will always be greater than in a integer programming model.  \n",
    "This can be seen as the upper bound.  \n",
    "A lower bound exists also to set the required minimum for solutions. By example at start to 0 for all variables. \n",
    "\n",
    "**Branch**  \n",
    "While computing combinations to reach the upper bound, there will be some found that fulfill the constraints.  \n",
    "With this solutions the branching will repeatally correct the upper and lower bound to let their distance get smaller and smaller.  \n",
    "The upper bound will decrease, because it is to high for the integer programming.  \n",
    "The lower bound will increase with each best minimum solution found, so that all solutions with lower value can be removed.  \n",
    "&nbsp;\n",
    "\n",
    "There are different solvers available for problems like that, which could process this for us.  \n",
    "In this notebook we use PulP and let it choose the right one. "
   ]
  },
  {
   "cell_type": "markdown",
   "metadata": {},
   "source": [
    "### Why PulP?\n",
    "\n",
    "PulP is one of many libraies which offer a linear programming API for linear problems.  \n",
    "The reason for using PulP is, that the decision variables can be set as integers instead continues point numbers.  \n",
    "This is essential for the integer programming problem. "
   ]
  },
  {
   "cell_type": "markdown",
   "metadata": {},
   "source": [
    "### Required imports"
   ]
  },
  {
   "cell_type": "code",
   "execution_count": 1,
   "metadata": {},
   "outputs": [],
   "source": [
    "# python=3.7.6\n",
    "\n",
    "# pandas=1.0.1\n",
    "import pandas as pd\n",
    "# pulp=2.4\n",
    "from pulp import *"
   ]
  },
  {
   "cell_type": "markdown",
   "metadata": {},
   "source": [
    "## All changeable parameters\n",
    "\n",
    "**Extending the example from the exercise, it can be chosen fewer or more transporters, other maximum capacities (for each truck), other driver weights and other values for the items.**  \n",
    "\n",
    "Make sure that the columns in the csv contains the right values.  \n",
    "If the column names are not the required ones, a mapping is offered. See below at column_mapping_required and columns_mapping.  \n",
    "\n",
    "Required column names (order not necessary): **name** ; **max_count** ; **weight** ; **utility**  \n",
    "\n",
    "Notice to set the right measuring unit 'kg' or 'gram' for the max loadings (max capacities), driver weight and item weight. "
   ]
  },
  {
   "cell_type": "code",
   "execution_count": 2,
   "metadata": {},
   "outputs": [],
   "source": [
    "# trucks count and max loading weight\n",
    "trucks_max_loadings = [1100, 1100]\n",
    "# can be 'kg' or 'gram'\n",
    "trucks_measuring_unit = 'kg'\n",
    "# drivers weight\n",
    "drivers_weights = [72.4, 85.7]\n",
    "# can be 'kg' or 'gram'\n",
    "drivers_measuring_unit = 'kg'\n",
    "\n",
    "# path to the csv file with all items\n",
    "items_file = './items.csv'\n",
    "# if False, the column names in the csv must be name, max_count, weight, utility\n",
    "# if True, the column names from csv will be changed by columns_mapping below\n",
    "column_mapping_required = True\n",
    "# the csv column names mapped to name, max_count, weight and utility\n",
    "# \"<required column>\" : \"\"<mapping csv column>\"\"\n",
    "columns_mapping = {\n",
    "    'name':      'name', \n",
    "    'max_count': 'required count', \n",
    "    'weight':    'weight in gram', \n",
    "    'utility':   'utility'\n",
    "}\n",
    "\n",
    "# delimiter of the csv columns\n",
    "csv_delimiter = ';'\n",
    "\n",
    "\n",
    "if len(trucks_max_loadings) != len(drivers_weights):\n",
    "    print(\"The count of trucks must be equal to the count of drivers!\")\n"
   ]
  },
  {
   "cell_type": "markdown",
   "metadata": {},
   "source": [
    "## Calculate the possible loads for the trucks"
   ]
  },
  {
   "cell_type": "markdown",
   "metadata": {},
   "source": [
    "If necessary, converting kg to gram for the trucks max loading and drivers weight."
   ]
  },
  {
   "cell_type": "code",
   "execution_count": 3,
   "metadata": {},
   "outputs": [
    {
     "data": {
      "text/plain": [
       "[1100000, 1100000]"
      ]
     },
     "execution_count": 3,
     "metadata": {},
     "output_type": "execute_result"
    }
   ],
   "source": [
    "if trucks_measuring_unit == 'kg':\n",
    "    trucks_max_loadings_gram = [max_load*1000 for max_load in trucks_max_loadings]\n",
    "else:\n",
    "    trucks_max_loadings_gram = trucks_max_loadings\n",
    "\n",
    "if drivers_measuring_unit == 'kg':\n",
    "    drivers_weights_gram = [weight*1000 for weight in drivers_weights]\n",
    "else:\n",
    "    drivers_weights_gram = drivers_weights\n",
    "\n",
    "trucks_max_loadings_gram"
   ]
  },
  {
   "cell_type": "markdown",
   "metadata": {},
   "source": [
    "Subtract the drivers weights from trucks max loading weight."
   ]
  },
  {
   "cell_type": "code",
   "execution_count": 4,
   "metadata": {},
   "outputs": [
    {
     "data": {
      "text/plain": [
       "[1027600.0, 1014300.0]"
      ]
     },
     "execution_count": 4,
     "metadata": {},
     "output_type": "execute_result"
    }
   ],
   "source": [
    "trucks_possible_loads = [max_load - driver_weight \n",
    "                         for max_load,driver_weight \n",
    "                         in zip(trucks_max_loadings_gram, drivers_weights_gram)]\n",
    "\n",
    "trucks_possible_loads"
   ]
  },
  {
   "cell_type": "markdown",
   "metadata": {},
   "source": [
    "## Exploring the items"
   ]
  },
  {
   "cell_type": "markdown",
   "metadata": {},
   "source": [
    "Read the data from csv file into a dataframe by pandas."
   ]
  },
  {
   "cell_type": "code",
   "execution_count": 5,
   "metadata": {},
   "outputs": [
    {
     "data": {
      "text/html": [
       "<div>\n",
       "<style scoped>\n",
       "    .dataframe tbody tr th:only-of-type {\n",
       "        vertical-align: middle;\n",
       "    }\n",
       "\n",
       "    .dataframe tbody tr th {\n",
       "        vertical-align: top;\n",
       "    }\n",
       "\n",
       "    .dataframe thead th {\n",
       "        text-align: right;\n",
       "    }\n",
       "</style>\n",
       "<table border=\"1\" class=\"dataframe\">\n",
       "  <thead>\n",
       "    <tr style=\"text-align: right;\">\n",
       "      <th></th>\n",
       "      <th>name</th>\n",
       "      <th>required count</th>\n",
       "      <th>weight in gram</th>\n",
       "      <th>utility</th>\n",
       "    </tr>\n",
       "  </thead>\n",
       "  <tbody>\n",
       "    <tr>\n",
       "      <th>0</th>\n",
       "      <td>Notebook Büro 13\"</td>\n",
       "      <td>205</td>\n",
       "      <td>2451</td>\n",
       "      <td>40</td>\n",
       "    </tr>\n",
       "    <tr>\n",
       "      <th>1</th>\n",
       "      <td>Notebook Büro 14\"</td>\n",
       "      <td>420</td>\n",
       "      <td>2978</td>\n",
       "      <td>35</td>\n",
       "    </tr>\n",
       "    <tr>\n",
       "      <th>2</th>\n",
       "      <td>Notebook outdoor</td>\n",
       "      <td>450</td>\n",
       "      <td>3625</td>\n",
       "      <td>80</td>\n",
       "    </tr>\n",
       "    <tr>\n",
       "      <th>3</th>\n",
       "      <td>Mobiltelefon Büro</td>\n",
       "      <td>60</td>\n",
       "      <td>717</td>\n",
       "      <td>30</td>\n",
       "    </tr>\n",
       "    <tr>\n",
       "      <th>4</th>\n",
       "      <td>Mobiltelefon Outdoor</td>\n",
       "      <td>157</td>\n",
       "      <td>988</td>\n",
       "      <td>60</td>\n",
       "    </tr>\n",
       "    <tr>\n",
       "      <th>5</th>\n",
       "      <td>Mobiltelefon Heavy Duty</td>\n",
       "      <td>220</td>\n",
       "      <td>1220</td>\n",
       "      <td>65</td>\n",
       "    </tr>\n",
       "    <tr>\n",
       "      <th>6</th>\n",
       "      <td>Tablet Büro klein</td>\n",
       "      <td>620</td>\n",
       "      <td>1405</td>\n",
       "      <td>40</td>\n",
       "    </tr>\n",
       "    <tr>\n",
       "      <th>7</th>\n",
       "      <td>Tablet Büro groß</td>\n",
       "      <td>250</td>\n",
       "      <td>1455</td>\n",
       "      <td>40</td>\n",
       "    </tr>\n",
       "    <tr>\n",
       "      <th>8</th>\n",
       "      <td>Tablet outdoor klein</td>\n",
       "      <td>540</td>\n",
       "      <td>1690</td>\n",
       "      <td>45</td>\n",
       "    </tr>\n",
       "    <tr>\n",
       "      <th>9</th>\n",
       "      <td>Tablet outdoor groß</td>\n",
       "      <td>370</td>\n",
       "      <td>1980</td>\n",
       "      <td>68</td>\n",
       "    </tr>\n",
       "  </tbody>\n",
       "</table>\n",
       "</div>"
      ],
      "text/plain": [
       "                      name  required count  weight in gram  utility\n",
       "0        Notebook Büro 13\"             205            2451       40\n",
       "1        Notebook Büro 14\"             420            2978       35\n",
       "2         Notebook outdoor             450            3625       80\n",
       "3        Mobiltelefon Büro              60             717       30\n",
       "4     Mobiltelefon Outdoor             157             988       60\n",
       "5  Mobiltelefon Heavy Duty             220            1220       65\n",
       "6        Tablet Büro klein             620            1405       40\n",
       "7         Tablet Büro groß             250            1455       40\n",
       "8     Tablet outdoor klein             540            1690       45\n",
       "9      Tablet outdoor groß             370            1980       68"
      ]
     },
     "execution_count": 5,
     "metadata": {},
     "output_type": "execute_result"
    }
   ],
   "source": [
    "df_items = pd.read_csv(items_file, delimiter=csv_delimiter, decimal='.')\n",
    "df_items.head(10)"
   ]
  },
  {
   "cell_type": "markdown",
   "metadata": {},
   "source": [
    "### Map the column names if required"
   ]
  },
  {
   "cell_type": "code",
   "execution_count": 6,
   "metadata": {},
   "outputs": [
    {
     "data": {
      "text/html": [
       "<div>\n",
       "<style scoped>\n",
       "    .dataframe tbody tr th:only-of-type {\n",
       "        vertical-align: middle;\n",
       "    }\n",
       "\n",
       "    .dataframe tbody tr th {\n",
       "        vertical-align: top;\n",
       "    }\n",
       "\n",
       "    .dataframe thead th {\n",
       "        text-align: right;\n",
       "    }\n",
       "</style>\n",
       "<table border=\"1\" class=\"dataframe\">\n",
       "  <thead>\n",
       "    <tr style=\"text-align: right;\">\n",
       "      <th></th>\n",
       "      <th>name</th>\n",
       "      <th>max_count</th>\n",
       "      <th>weight</th>\n",
       "      <th>utility</th>\n",
       "    </tr>\n",
       "  </thead>\n",
       "  <tbody>\n",
       "    <tr>\n",
       "      <th>0</th>\n",
       "      <td>Notebook Büro 13\"</td>\n",
       "      <td>205</td>\n",
       "      <td>2451</td>\n",
       "      <td>40</td>\n",
       "    </tr>\n",
       "    <tr>\n",
       "      <th>1</th>\n",
       "      <td>Notebook Büro 14\"</td>\n",
       "      <td>420</td>\n",
       "      <td>2978</td>\n",
       "      <td>35</td>\n",
       "    </tr>\n",
       "    <tr>\n",
       "      <th>2</th>\n",
       "      <td>Notebook outdoor</td>\n",
       "      <td>450</td>\n",
       "      <td>3625</td>\n",
       "      <td>80</td>\n",
       "    </tr>\n",
       "    <tr>\n",
       "      <th>3</th>\n",
       "      <td>Mobiltelefon Büro</td>\n",
       "      <td>60</td>\n",
       "      <td>717</td>\n",
       "      <td>30</td>\n",
       "    </tr>\n",
       "    <tr>\n",
       "      <th>4</th>\n",
       "      <td>Mobiltelefon Outdoor</td>\n",
       "      <td>157</td>\n",
       "      <td>988</td>\n",
       "      <td>60</td>\n",
       "    </tr>\n",
       "    <tr>\n",
       "      <th>5</th>\n",
       "      <td>Mobiltelefon Heavy Duty</td>\n",
       "      <td>220</td>\n",
       "      <td>1220</td>\n",
       "      <td>65</td>\n",
       "    </tr>\n",
       "    <tr>\n",
       "      <th>6</th>\n",
       "      <td>Tablet Büro klein</td>\n",
       "      <td>620</td>\n",
       "      <td>1405</td>\n",
       "      <td>40</td>\n",
       "    </tr>\n",
       "    <tr>\n",
       "      <th>7</th>\n",
       "      <td>Tablet Büro groß</td>\n",
       "      <td>250</td>\n",
       "      <td>1455</td>\n",
       "      <td>40</td>\n",
       "    </tr>\n",
       "    <tr>\n",
       "      <th>8</th>\n",
       "      <td>Tablet outdoor klein</td>\n",
       "      <td>540</td>\n",
       "      <td>1690</td>\n",
       "      <td>45</td>\n",
       "    </tr>\n",
       "    <tr>\n",
       "      <th>9</th>\n",
       "      <td>Tablet outdoor groß</td>\n",
       "      <td>370</td>\n",
       "      <td>1980</td>\n",
       "      <td>68</td>\n",
       "    </tr>\n",
       "  </tbody>\n",
       "</table>\n",
       "</div>"
      ],
      "text/plain": [
       "                      name  max_count  weight  utility\n",
       "0        Notebook Büro 13\"        205    2451       40\n",
       "1        Notebook Büro 14\"        420    2978       35\n",
       "2         Notebook outdoor        450    3625       80\n",
       "3        Mobiltelefon Büro         60     717       30\n",
       "4     Mobiltelefon Outdoor        157     988       60\n",
       "5  Mobiltelefon Heavy Duty        220    1220       65\n",
       "6        Tablet Büro klein        620    1405       40\n",
       "7         Tablet Büro groß        250    1455       40\n",
       "8     Tablet outdoor klein        540    1690       45\n",
       "9      Tablet outdoor groß        370    1980       68"
      ]
     },
     "execution_count": 6,
     "metadata": {},
     "output_type": "execute_result"
    }
   ],
   "source": [
    "if column_mapping_required and columns_mapping is not None:\n",
    "    df_items.rename(columns = {origin_name : new_name for new_name,origin_name in columns_mapping.items()}, inplace=True)\n",
    "df_items.head(10)"
   ]
  },
  {
   "cell_type": "markdown",
   "metadata": {},
   "source": [
    "### Calculate a value of efficiency by utility / weight\n",
    "\n",
    "*Notice: This step is still just exploring of the data. It is not necessary for the solution.*  \n",
    "\n",
    "To find out which items are the best choices and should be nearly all on the delivery, the efficiency is a good approach. "
   ]
  },
  {
   "cell_type": "code",
   "execution_count": 7,
   "metadata": {},
   "outputs": [
    {
     "name": "stdout",
     "output_type": "stream",
     "text": [
      "Efficients ordered\n",
      "\n",
      "Mobiltelefon Outdoor     : 60.73\n",
      "Mobiltelefon Heavy Duty  : 53.28\n",
      "Mobiltelefon Büro        : 41.84\n",
      "Tablet outdoor groß      : 34.34\n",
      "Tablet Büro klein        : 28.47\n",
      "Tablet Büro groß         : 27.49\n",
      "Tablet outdoor klein     : 26.63\n",
      "Notebook outdoor         : 22.07\n",
      "Notebook Büro 13\"        : 16.32\n",
      "Notebook Büro 14\"        : 11.75\n"
     ]
    }
   ],
   "source": [
    "items_efficiency = {item['name'] : item['utility'] / item['weight'] for _, item in df_items.iterrows()}\n",
    "\n",
    "print(\"Efficients ordered\\n\")\n",
    "items_efficiency_ordered = dict(sorted(items_efficiency.items(), key=lambda e: e[1], reverse=True))\n",
    "\n",
    "# for more readability its multiplied by 1000\n",
    "for name, efficiency in items_efficiency_ordered.items():\n",
    "    print(\"{:<25}: {}\".format(name, round(efficiency*1000, 2)))"
   ]
  },
  {
   "cell_type": "markdown",
   "metadata": {},
   "source": [
    "# Start with pulp action"
   ]
  },
  {
   "cell_type": "markdown",
   "metadata": {},
   "source": [
    "## Create a new LpProblem from pulp.  \n",
    "The LpProblem should maximize a objective function, which will be set later.  \n",
    "There is also the possibility to instead minimize an objective function maybe for an error problem. "
   ]
  },
  {
   "cell_type": "code",
   "execution_count": 8,
   "metadata": {},
   "outputs": [],
   "source": [
    "prob = LpProblem(\"Delivery_Problem\",LpMaximize)"
   ]
  },
  {
   "cell_type": "markdown",
   "metadata": {},
   "source": [
    "## Create LpVariables from pulp for optimizing.  \n",
    "The values of this variables will be changed by the solver included in pulp to optimize the objective function.  \n",
    "\n",
    "In our case a LpVariable has the name of an item, the optional lowBound is set to 0, because no less than 0 items can be taken, and the category set to Integer to get no half or quarter pieces.  \n",
    "\n",
    "Like following it can be create each variable separately with different parameters or a dict of multiple variables with the same parameters.  \n",
    "\n",
    "Example for a single variable: \n",
    "> `variable_1 = LpVariable('<variable_name>', lowBound=0, upBound=None, cat='Integer')`\n",
    "\n",
    "Example for a dict of multiple variables (a dict have a main/upper name to subdivide): \n",
    "> `variables_dict = LpVariable.dicts(\"<main_name>\",<list_of_variables_names>,lowBound=0,cat='Integer')`  \n",
    "\n",
    "**We create for each truck a own dict consisting of all items.** "
   ]
  },
  {
   "cell_type": "code",
   "execution_count": 9,
   "metadata": {},
   "outputs": [],
   "source": [
    "items_names = df_items['name'].tolist()\n",
    "\n",
    "# Set variables to optimize as items count, lower bound = 0 and as Integer numbers\n",
    "# for single variables make: variable_1 = LpVariable('<variable_name>', lowBound=0, upBound=None, cat='Integer')\n",
    "# for multiple variables make: LpVariable.dicts(\"<main_name>\",<list_of_variables_names>,lowBound=0,cat='Integer')\n",
    "\n",
    "# create optimizeable variables for each item for each truck as a list of dicts\n",
    "lp_trucks_items = [LpVariable.dicts(\"Truck {}\".format(truck_number), items_names, lowBound=0, cat='Integer') \n",
    "                   for truck_number in range(len(trucks_possible_loads))]\n"
   ]
  },
  {
   "cell_type": "markdown",
   "metadata": {},
   "source": [
    "## Adding main objective function\n",
    "\n",
    "Construct a objective function and add it to the LpProblem.  \n",
    "The objective function will be calculated repeatedly to adjust the LpVariables in the right way to maximize itself.  \n",
    "\n",
    "For the objective function we calculate the total sum of utility for the items on the trucks.  \n",
    "To do this, we multiply the utility value of the item by its count from the LpVariable.  \n",
    "We do that with each item on each truck and get the sum of all. "
   ]
  },
  {
   "cell_type": "code",
   "execution_count": 10,
   "metadata": {},
   "outputs": [],
   "source": [
    "# Adding main objective function\n",
    "\n",
    "# multiply the utility of the item with the count in the optimizeable variables\n",
    "# for each item in each truck and get the sum as objective value\n",
    "prob += lpSum([\n",
    "    item['utility'] * lp_truck_items[item['name']]\n",
    "    for _,item in df_items.iterrows() \n",
    "    for lp_truck_items in lp_trucks_items\n",
    "])\n"
   ]
  },
  {
   "cell_type": "markdown",
   "metadata": {},
   "source": [
    "## Adding constraints\n",
    "\n",
    "After adding the objective function to the LpProblem, it can be added some constraints in the same way. \n",
    "\n",
    "### Adding max capacity constraints\n",
    "\n",
    "We have a limit of load for each truck, what we can implement as constraints.  \n",
    "Instead of taking the total sum as in the objective function, here we create a separate constraint for each truck.  \n",
    "To do this, we multiply the weight of the item by its count from the LpVariable.  \n",
    "We do that with each item on **one** truck and get the sum of its weight.  \n",
    "Then we add a new constraint where the sum of weight must be lower or equal to the truck max possible load (which we got further up).  \n",
    "Repeat for all trucks. "
   ]
  },
  {
   "cell_type": "code",
   "execution_count": 11,
   "metadata": {},
   "outputs": [],
   "source": [
    "# Adding weight constraints\n",
    "\n",
    "# for each truck get the possible load\n",
    "for truck_number, truck_possible_load in enumerate(trucks_possible_loads):\n",
    "    lp_truck_items = lp_trucks_items[truck_number]    \n",
    "    # multiply the weight of the item with its count on the truck\n",
    "    lp_sum = lpSum([float(item['weight']) * lp_truck_items[item['name']] for _,item in df_items.iterrows()])\n",
    "    # set the constraint, that the sum of weights on the truck must be lower or equal to his possible load\n",
    "    prob += lp_sum <= truck_possible_load"
   ]
  },
  {
   "cell_type": "markdown",
   "metadata": {},
   "source": [
    "### Adding item max count constraints\n",
    "\n",
    "Like the max possible load above it exists also a limit by the max count of each item type.  \n",
    "This limit applies one item type over all trucks.  \n",
    "So we go through the item list and get the count of it from each truck by the LpVariables in `lp_trucks_items`.  \n",
    "We sum the count over all trucks and add a new constraint where it must be lower or equal to the defined max count.  \n",
    "Repeat for all items. "
   ]
  },
  {
   "cell_type": "code",
   "execution_count": 12,
   "metadata": {},
   "outputs": [],
   "source": [
    "# Adding count constraints\n",
    "# for each item type get the sum of count on each truck\n",
    "# set the constraint, that the sum of count is lower or equal to the max count\n",
    "for _, item in df_items.iterrows():\n",
    "    total_item_count = sum([lp_truck_items[item['name']] for lp_truck_items in lp_trucks_items])\n",
    "    prob += total_item_count <= item['max_count']"
   ]
  },
  {
   "cell_type": "markdown",
   "metadata": {},
   "source": [
    "## Solving\n",
    "### Try to solve the definded problem\n",
    "\n",
    "It can be set a certain solver from the pulp library.  \n",
    "However, we run the default solver which is automatically selected by the structure of the defined problem.  \n",
    "\n",
    "**Here the algorithmus do optimizing the LpVariables.**"
   ]
  },
  {
   "cell_type": "code",
   "execution_count": 13,
   "metadata": {},
   "outputs": [
    {
     "data": {
      "text/plain": [
       "1"
      ]
     },
     "execution_count": 13,
     "metadata": {},
     "output_type": "execute_result"
    }
   ],
   "source": [
    "# Use default solver which will be selected by the problem structure\n",
    "prob.solve()"
   ]
  },
  {
   "cell_type": "markdown",
   "metadata": {},
   "source": [
    "Show the status of solving. "
   ]
  },
  {
   "cell_type": "code",
   "execution_count": 14,
   "metadata": {},
   "outputs": [
    {
     "name": "stdout",
     "output_type": "stream",
     "text": [
      "Status: Optimal\n"
     ]
    }
   ],
   "source": [
    "# The status of the solution is printed to the screen\n",
    "print(\"Status:\", LpStatus[prob.status])"
   ]
  },
  {
   "cell_type": "markdown",
   "metadata": {},
   "source": [
    "## Present the results and consider the validity\n",
    "### Convert results to own data structure\n",
    "\n",
    "Because of the subdivide by upper name in the dicts has each LpVariable name a string as prefix like `\"Truck_1_\"`.  \n",
    "Furthermore the library has replaced all whitespaces in the variable names by underscores.  \n",
    "So we can not use the original item name as key to get the value of a item.  \n",
    "\n",
    "To make easy access we make a own result list for each truck.  \n",
    "In this list we add a dictionary for all items on the respective truck.  \n",
    "Because the division for each truck, we can remove the prefix on all variables.  \n",
    "Just the replaced whitespaces are taken and handled later.  \n",
    "The result values keep. "
   ]
  },
  {
   "cell_type": "code",
   "execution_count": 15,
   "metadata": {},
   "outputs": [
    {
     "data": {
      "text/plain": [
       "[{'Mobiltelefon_Büro': 52.0,\n",
       "  'Mobiltelefon_Heavy_Duty': 220.0,\n",
       "  'Mobiltelefon_Outdoor': 0.0,\n",
       "  'Notebook_Büro_13\"': 0.0,\n",
       "  'Notebook_Büro_14\"': 0.0,\n",
       "  'Notebook_outdoor': 0.0,\n",
       "  'Tablet_Büro_groß': 0.0,\n",
       "  'Tablet_Büro_klein': 509.0,\n",
       "  'Tablet_outdoor_groß': 0.0,\n",
       "  'Tablet_outdoor_klein': 4.0},\n",
       " {'Mobiltelefon_Büro': 8.0,\n",
       "  'Mobiltelefon_Heavy_Duty': 0.0,\n",
       "  'Mobiltelefon_Outdoor': 157.0,\n",
       "  'Notebook_Büro_13\"': 0.0,\n",
       "  'Notebook_Büro_14\"': 0.0,\n",
       "  'Notebook_outdoor': 0.0,\n",
       "  'Tablet_Büro_groß': 0.0,\n",
       "  'Tablet_Büro_klein': 86.0,\n",
       "  'Tablet_outdoor_groß': 370.0,\n",
       "  'Tablet_outdoor_klein': 0.0}]"
      ]
     },
     "execution_count": 15,
     "metadata": {},
     "output_type": "execute_result"
    }
   ],
   "source": [
    "# get optimized variables\n",
    "result_variables = prob.variables()\n",
    "# create a result list for the trucks\n",
    "result_trucks_items = []\n",
    "# for each truck add his items\n",
    "for truck_number in range(len(trucks_possible_loads)):\n",
    "    prefix_len = len(\"Truck_{}_\".format(truck_number))\n",
    "    # create a result item dict for this truck\n",
    "    truck_items = {var.name[prefix_len:] : var.varValue                      # remove the prefix of truck in the name\n",
    "                   for var in result_variables \n",
    "                   if var.name.startswith(\"Truck_{}_\".format(truck_number))} # get only the items from the current truck\n",
    "    # add count of items for this truck to result list\n",
    "    result_trucks_items.insert(truck_number, truck_items)\n",
    "    \n",
    "result_trucks_items"
   ]
  },
  {
   "cell_type": "markdown",
   "metadata": {},
   "source": [
    "### Show each truck with driver and item count\n",
    "\n",
    "Print the result for each truck.  \n",
    "How much weight has the driver.  \n",
    "What types and how many items should be loaded.  \n",
    "\n",
    "*Notice: The Assignment for trucks and drivers is set by the indices of lists.*"
   ]
  },
  {
   "cell_type": "code",
   "execution_count": 16,
   "metadata": {},
   "outputs": [
    {
     "name": "stdout",
     "output_type": "stream",
     "text": [
      "Result count for each item\n",
      "\n",
      "Truck 1 with driver weight 72.4kg:\n",
      "Mobiltelefon Büro         =       52.0\n",
      "Mobiltelefon Heavy Duty   =      220.0\n",
      "Tablet Büro klein         =      509.0\n",
      "Tablet outdoor klein      =        4.0\n",
      "\n",
      "Truck 2 with driver weight 85.7kg:\n",
      "Mobiltelefon Büro         =        8.0\n",
      "Mobiltelefon Outdoor      =      157.0\n",
      "Tablet Büro klein         =       86.0\n",
      "Tablet outdoor groß       =      370.0\n"
     ]
    }
   ],
   "source": [
    "print(\"Result count for each item\")\n",
    "\n",
    "for truck_number, result_truck_items in enumerate(result_trucks_items):\n",
    "    # increase the number of truck by 1 to skip the index 0 (only for presentation)\n",
    "    # also divide the weight of driver by 1000 to get kg from gram\n",
    "    print(\"\\nTruck {} with driver weight {}kg:\".format(truck_number+1,drivers_weights_gram[truck_number]/1000))\n",
    "    for item_name, item_count in result_truck_items.items():\n",
    "        # show only the items which counts are greater 0\n",
    "        if item_count > 0:\n",
    "            # replace underscores from pulp with whitespaces for better readability\n",
    "            print(\"{:<25} = {:>10}\".format(item_name.replace('_',' '),item_count))"
   ]
  },
  {
   "cell_type": "markdown",
   "metadata": {},
   "source": [
    "### Show possible load of trucks"
   ]
  },
  {
   "cell_type": "code",
   "execution_count": 17,
   "metadata": {},
   "outputs": [
    {
     "name": "stdout",
     "output_type": "stream",
     "text": [
      "Allowed weight for truck 1 (with included driver): 1027600.0 gram or 1027.6 kg\n",
      "Allowed weight for truck 2 (with included driver): 1014300.0 gram or 1014.3 kg\n"
     ]
    }
   ],
   "source": [
    "for truck_number, truck_possible_load in enumerate(trucks_possible_loads):\n",
    "    print(\"Allowed weight for truck {} (with included driver): {} gram or {} kg\".format(\n",
    "        truck_number+1,\n",
    "        truck_possible_load, \n",
    "        truck_possible_load / 1000))"
   ]
  },
  {
   "cell_type": "markdown",
   "metadata": {},
   "source": [
    "### Show total weights of trucks containing items\n",
    "\n",
    "*Notice:  \n",
    "The library sorted the variables by names and changed their indices.  \n",
    "So they have different indices as the origin.  \n",
    "To access one use the name as key.*  \n",
    "\n",
    "To get the total sum of weight for each truck and the chosen count of items, we go through each truck from our own result list `result_trucks_items`.  \n",
    "We multiply the weight of item with the count from truck results.  \n",
    "\n",
    "Because the library has replaced all whitespaces in the variable names by underscores, we access the result value by do this with the origin name too and use it as key.  \n",
    "*Notice: We can not just replace all underscores with whitespaces, because a origin name could contain a underscore too.*"
   ]
  },
  {
   "cell_type": "code",
   "execution_count": 18,
   "metadata": {
    "scrolled": true
   },
   "outputs": [
    {
     "name": "stdout",
     "output_type": "stream",
     "text": [
      "Total weight of truck 1: 1027589.0 gram or 1027.589 kg\n",
      "Total weight of truck 2: 1014282.0 gram or 1014.282 kg\n"
     ]
    }
   ],
   "source": [
    "# for each truck\n",
    "for truck_number, result_truck_items in enumerate(result_trucks_items):\n",
    "    # calculate the total sum of weight for each item\n",
    "    total_truck_weight = sum([\n",
    "        item_count * item['weight'] \n",
    "        for item_name,item_count in result_truck_items.items() \n",
    "        for _,item in df_items.iterrows() \n",
    "        # the item names from pulp have replaced whitespaces ' ' with underscore '_'\n",
    "        # to compare we must do this too\n",
    "        if item['name'].replace(' ','_') == item_name \n",
    "    ])\n",
    "    print(\"Total weight of truck {}: {} gram or {} kg\".format(truck_number+1, total_truck_weight, total_truck_weight/1000))\n"
   ]
  },
  {
   "cell_type": "markdown",
   "metadata": {},
   "source": [
    "### Show the total value of utility over all trucks and items"
   ]
  },
  {
   "cell_type": "code",
   "execution_count": 19,
   "metadata": {},
   "outputs": [
    {
     "name": "stdout",
     "output_type": "stream",
     "text": [
      "The total utility value (rounded to 2 decimal places) of picked items in both trucks is: 74660.0\n"
     ]
    }
   ],
   "source": [
    "# print the end value of the objective function, in our case the sum of utility from all picked items\n",
    "result_utility = value(prob.objective)\n",
    "print(\"The total utility value (rounded to 2 decimal places) of picked items in both trucks is: {}\".\n",
    "      format(round(result_utility,2)))"
   ]
  }
 ],
 "metadata": {
  "authors": [
   {
    "name": "Marcel Hoop"
   }
  ],
  "kernelspec": {
   "display_name": "Python 3",
   "language": "python",
   "name": "python3"
  },
  "language_info": {
   "codemirror_mode": {
    "name": "ipython",
    "version": 3
   },
   "file_extension": ".py",
   "mimetype": "text/x-python",
   "name": "python",
   "nbconvert_exporter": "python",
   "pygments_lexer": "ipython3",
   "version": "3.7.6"
  }
 },
 "nbformat": 4,
 "nbformat_minor": 2
}
